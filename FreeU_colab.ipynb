{
  "cells": [
    {
      "cell_type": "markdown",
      "metadata": {
        "id": "view-in-github"
      },
      "source": [
        "[![Open In Colab](https://colab.research.google.com/assets/colab-badge.svg)](https://colab.research.google.com/github/camenduru/FreeU-colab/blob/main/FreeU_colab.ipynb)"
      ]
    },
    {
      "cell_type": "code",
      "execution_count": null,
      "metadata": {
        "id": "VjYy0F2gZIPR"
      },
      "outputs": [],
      "source": [
        "%cd /content\n",
        "!git clone -b dev https://github.com/camenduru/FreeU2-hf\n",
        "!pip install -q gradio safetensors diffusers transformers accelerate xformers==0.0.20\n",
        "%cd /content/FreeU2-hf\n",
        "\n",
        "!apt -y install -qq aria2\n",
        "!aria2c --console-log-level=error -c -x 16 -s 16 -k 1M https://huggingface.co/spaces/ChenyangSi/FreeU/resolve/main/stable-diffusion-2-1/unet/diffusion_pytorch_model.bin -d /content/FreeU2-hf/stable-diffusion-2-1/unet -o diffusion_pytorch_model.bin\n",
        "!aria2c --console-log-level=error -c -x 16 -s 16 -k 1M https://huggingface.co/spaces/ChenyangSi/FreeU/resolve/main/stable-diffusion-2-1/vae/diffusion_pytorch_model.bin -d /content/FreeU2-hf/stable-diffusion-2-1/vae -o diffusion_pytorch_model.bin\n",
        "!aria2c --console-log-level=error -c -x 16 -s 16 -k 1M https://huggingface.co/spaces/ChenyangSi/FreeU/resolve/main/stable-diffusion-2-1/text_encoder/pytorch_model.bin -d /content/FreeU2-hf/stable-diffusion-2-1/text_encoder -o pytorch_model.bin\n",
        "\n",
        "!python app.py"
      ]
    }
  ],
  "metadata": {
    "accelerator": "GPU",
    "colab": {
      "gpuType": "T4",
      "provenance": []
    },
    "kernelspec": {
      "display_name": "Python 3",
      "name": "python3"
    },
    "language_info": {
      "name": "python"
    }
  },
  "nbformat": 4,
  "nbformat_minor": 0
}
